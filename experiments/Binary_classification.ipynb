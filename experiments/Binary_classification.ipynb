{
 "cells": [
  {
   "cell_type": "code",
   "execution_count": 1,
   "metadata": {},
   "outputs": [],
   "source": [
    "# Add root dir to sys.path\n",
    "import sys\n",
    "from pathlib import Path\n",
    "\n",
    "# print(Path.cwd().parent)\n",
    "sys.path.append(str(Path.cwd().parent))  # or adjust as needed\n",
    "\n",
    "import numpy as np\n",
    "import pandas as pd\n"
   ]
  },
  {
   "cell_type": "code",
   "execution_count": 2,
   "metadata": {},
   "outputs": [],
   "source": [
    "import numpy as np\n",
    "import pandas as pd\n",
    "from pathlib import Path\n",
    "from src.core.backprop import BackProp\n",
    "from src.core.layers import NeuNet\n",
    "from src.core.feed_forward import FeedForward\n",
    "from src.core.learner import Learner\n",
    "from src.utils.loss_functions import binary_cross_entropy, mean_squared_error\n",
    "from src.utils.data_randomize import df_random\n",
    "from src.utils.data_split import train_test_split\n",
    "\n",
    "# resolve paths\n",
    "# curr_script_path = Path.cwd()\n",
    "curr_folder_path = Path.cwd()\n",
    "root_folder_path = curr_folder_path.parent\n",
    "# root_folder_path = curr_folder_path.parent\n",
    "data_folder = root_folder_path / \"data/data_to_test\"\n",
    "\n",
    "rand_df = df_random(pd.read_csv(str(data_folder)+\"/binary_classification_data_4_f.csv\"))\n",
    "# rand_df_tr = df_random(pd.read_csv(str(data_folder)+\"/mnist_train.csv\"))\n",
    "# rand_df = pd.read_csv(str(data_folder)+\"/binary_classification_data.csv\")\n",
    "# tr_data, test_data = train_test_split(rand_df, 0.8)\n",
    "tr_data = rand_df"
   ]
  },
  {
   "cell_type": "code",
   "execution_count": 3,
   "metadata": {},
   "outputs": [
    {
     "data": {
      "text/html": [
       "<div>\n",
       "<style scoped>\n",
       "    .dataframe tbody tr th:only-of-type {\n",
       "        vertical-align: middle;\n",
       "    }\n",
       "\n",
       "    .dataframe tbody tr th {\n",
       "        vertical-align: top;\n",
       "    }\n",
       "\n",
       "    .dataframe thead th {\n",
       "        text-align: right;\n",
       "    }\n",
       "</style>\n",
       "<table border=\"1\" class=\"dataframe\">\n",
       "  <thead>\n",
       "    <tr style=\"text-align: right;\">\n",
       "      <th></th>\n",
       "      <th>Unnamed: 0</th>\n",
       "      <th>x_0</th>\n",
       "      <th>x_1</th>\n",
       "      <th>x_2</th>\n",
       "      <th>x_3</th>\n",
       "      <th>y</th>\n",
       "    </tr>\n",
       "  </thead>\n",
       "  <tbody>\n",
       "    <tr>\n",
       "      <th>11</th>\n",
       "      <td>11</td>\n",
       "      <td>0.727137</td>\n",
       "      <td>0.453022</td>\n",
       "      <td>0.158609</td>\n",
       "      <td>0.538872</td>\n",
       "      <td>0.0</td>\n",
       "    </tr>\n",
       "    <tr>\n",
       "      <th>79</th>\n",
       "      <td>79</td>\n",
       "      <td>0.028083</td>\n",
       "      <td>0.008740</td>\n",
       "      <td>1.032246</td>\n",
       "      <td>0.440089</td>\n",
       "      <td>0.0</td>\n",
       "    </tr>\n",
       "    <tr>\n",
       "      <th>103</th>\n",
       "      <td>103</td>\n",
       "      <td>2.178146</td>\n",
       "      <td>1.882892</td>\n",
       "      <td>2.119052</td>\n",
       "      <td>2.547319</td>\n",
       "      <td>1.0</td>\n",
       "    </tr>\n",
       "    <tr>\n",
       "      <th>20</th>\n",
       "      <td>20</td>\n",
       "      <td>-1.276495</td>\n",
       "      <td>0.188213</td>\n",
       "      <td>-0.477973</td>\n",
       "      <td>-0.359802</td>\n",
       "      <td>0.0</td>\n",
       "    </tr>\n",
       "    <tr>\n",
       "      <th>89</th>\n",
       "      <td>89</td>\n",
       "      <td>0.527226</td>\n",
       "      <td>0.771507</td>\n",
       "      <td>0.650923</td>\n",
       "      <td>0.082114</td>\n",
       "      <td>0.0</td>\n",
       "    </tr>\n",
       "    <tr>\n",
       "      <th>...</th>\n",
       "      <td>...</td>\n",
       "      <td>...</td>\n",
       "      <td>...</td>\n",
       "      <td>...</td>\n",
       "      <td>...</td>\n",
       "      <td>...</td>\n",
       "    </tr>\n",
       "    <tr>\n",
       "      <th>122</th>\n",
       "      <td>122</td>\n",
       "      <td>0.952698</td>\n",
       "      <td>1.159391</td>\n",
       "      <td>1.887871</td>\n",
       "      <td>2.091963</td>\n",
       "      <td>1.0</td>\n",
       "    </tr>\n",
       "    <tr>\n",
       "      <th>47</th>\n",
       "      <td>47</td>\n",
       "      <td>0.388745</td>\n",
       "      <td>0.558508</td>\n",
       "      <td>0.539809</td>\n",
       "      <td>0.078352</td>\n",
       "      <td>0.0</td>\n",
       "    </tr>\n",
       "    <tr>\n",
       "      <th>152</th>\n",
       "      <td>152</td>\n",
       "      <td>2.231565</td>\n",
       "      <td>2.471234</td>\n",
       "      <td>2.158580</td>\n",
       "      <td>2.224098</td>\n",
       "      <td>1.0</td>\n",
       "    </tr>\n",
       "    <tr>\n",
       "      <th>74</th>\n",
       "      <td>74</td>\n",
       "      <td>0.201171</td>\n",
       "      <td>-0.517121</td>\n",
       "      <td>-0.326204</td>\n",
       "      <td>0.024747</td>\n",
       "      <td>0.0</td>\n",
       "    </tr>\n",
       "    <tr>\n",
       "      <th>41</th>\n",
       "      <td>41</td>\n",
       "      <td>-0.710009</td>\n",
       "      <td>0.219696</td>\n",
       "      <td>-0.198636</td>\n",
       "      <td>-0.226693</td>\n",
       "      <td>0.0</td>\n",
       "    </tr>\n",
       "  </tbody>\n",
       "</table>\n",
       "<p>200 rows × 6 columns</p>\n",
       "</div>"
      ],
      "text/plain": [
       "     Unnamed: 0       x_0       x_1       x_2       x_3    y\n",
       "11           11  0.727137  0.453022  0.158609  0.538872  0.0\n",
       "79           79  0.028083  0.008740  1.032246  0.440089  0.0\n",
       "103         103  2.178146  1.882892  2.119052  2.547319  1.0\n",
       "20           20 -1.276495  0.188213 -0.477973 -0.359802  0.0\n",
       "89           89  0.527226  0.771507  0.650923  0.082114  0.0\n",
       "..          ...       ...       ...       ...       ...  ...\n",
       "122         122  0.952698  1.159391  1.887871  2.091963  1.0\n",
       "47           47  0.388745  0.558508  0.539809  0.078352  0.0\n",
       "152         152  2.231565  2.471234  2.158580  2.224098  1.0\n",
       "74           74  0.201171 -0.517121 -0.326204  0.024747  0.0\n",
       "41           41 -0.710009  0.219696 -0.198636 -0.226693  0.0\n",
       "\n",
       "[200 rows x 6 columns]"
      ]
     },
     "execution_count": 3,
     "metadata": {},
     "output_type": "execute_result"
    }
   ],
   "source": [
    "# pd.read_csv(str(data_folder)+\"/mnist_train.csv\")\n",
    "rand_df"
   ]
  },
  {
   "cell_type": "code",
   "execution_count": 4,
   "metadata": {},
   "outputs": [
    {
     "data": {
      "text/plain": [
       "(200, 6)"
      ]
     },
     "execution_count": 4,
     "metadata": {},
     "output_type": "execute_result"
    }
   ],
   "source": [
    "tr_data.shape"
   ]
  },
  {
   "cell_type": "code",
   "execution_count": 5,
   "metadata": {},
   "outputs": [
    {
     "data": {
      "text/plain": [
       "(1, 3)"
      ]
     },
     "execution_count": 5,
     "metadata": {},
     "output_type": "execute_result"
    }
   ],
   "source": [
    "a = np.array([[1, 2, 3]])\n",
    "a.shape"
   ]
  },
  {
   "cell_type": "code",
   "execution_count": 5,
   "metadata": {},
   "outputs": [],
   "source": [
    "tr_X = tr_data.iloc[:, 1:5]\n",
    "tr_X = np.array(tr_X)\n",
    "tr_y = tr_data.iloc[:, -1]\n",
    "tr_y = np.array(tr_y)\n",
    "tr_y = tr_y.reshape(tr_y.shape[0], 1)"
   ]
  },
  {
   "cell_type": "code",
   "execution_count": 6,
   "metadata": {},
   "outputs": [],
   "source": [
    "# test_y"
   ]
  },
  {
   "cell_type": "code",
   "execution_count": 7,
   "metadata": {},
   "outputs": [],
   "source": [
    "test_X = test_data.iloc[:, 1:5]\n",
    "test_X = np.array(test_X)\n",
    "test_y = test_data.iloc[:, -1]\n",
    "test_y = np.array(test_y)\n",
    "test_y = test_y.reshape(test_y.shape[0], 1)"
   ]
  },
  {
   "cell_type": "code",
   "execution_count": 8,
   "metadata": {},
   "outputs": [
    {
     "data": {
      "text/plain": [
       "(120, 4)"
      ]
     },
     "execution_count": 8,
     "metadata": {},
     "output_type": "execute_result"
    }
   ],
   "source": [
    "test_X.shape"
   ]
  },
  {
   "cell_type": "code",
   "execution_count": null,
   "metadata": {},
   "outputs": [
    {
     "data": {
      "text/plain": [
       "480"
      ]
     },
     "execution_count": 9,
     "metadata": {},
     "output_type": "execute_result"
    }
   ],
   "source": [
    "tr_X.shape\n",
    "len(tr_X)"
   ]
  },
  {
   "cell_type": "code",
   "execution_count": null,
   "metadata": {},
   "outputs": [
    {
     "name": "stderr",
     "output_type": "stream",
     "text": [
      "INFO:root:Loss - 1.0400177415463743\n",
      "INFO:root:Epoch: 0 - Average Loss: 1.0400177415463743\n",
      "INFO:root:Loss - 1.0282417800619508\n",
      "INFO:root:Epoch: 1 - Average Loss: 1.0282417800619508\n",
      "INFO:root:Loss - 1.01669789952189\n",
      "INFO:root:Epoch: 2 - Average Loss: 1.01669789952189\n",
      "INFO:root:Loss - 1.0053887652385716\n",
      "INFO:root:Epoch: 3 - Average Loss: 1.0053887652385716\n",
      "INFO:root:Loss - 0.9943168769213316\n",
      "INFO:root:Epoch: 4 - Average Loss: 0.9943168769213316\n",
      "INFO:root:Loss - 0.9834845602952244\n",
      "INFO:root:Epoch: 5 - Average Loss: 0.9834845602952244\n",
      "INFO:root:Loss - 0.9728939591686272\n",
      "INFO:root:Epoch: 6 - Average Loss: 0.9728939591686272\n",
      "INFO:root:Loss - 0.9625470280036048\n",
      "INFO:root:Epoch: 7 - Average Loss: 0.9625470280036048\n",
      "INFO:root:Loss - 0.9524455250404863\n",
      "INFO:root:Epoch: 8 - Average Loss: 0.9524455250404863\n",
      "INFO:root:Loss - 0.942591006024992\n",
      "INFO:root:Epoch: 9 - Average Loss: 0.942591006024992\n",
      "INFO:root:Loss - 0.9329848185826467\n",
      "INFO:root:Epoch: 10 - Average Loss: 0.9329848185826467\n",
      "INFO:root:Loss - 0.9236280972809625\n",
      "INFO:root:Epoch: 11 - Average Loss: 0.9236280972809625\n",
      "INFO:root:Loss - 0.9145217594152506\n",
      "INFO:root:Epoch: 12 - Average Loss: 0.9145217594152506\n",
      "INFO:root:Loss - 0.9056665015487184\n",
      "INFO:root:Epoch: 13 - Average Loss: 0.9056665015487184\n",
      "INFO:root:Loss - 0.897062796832026\n",
      "INFO:root:Epoch: 14 - Average Loss: 0.897062796832026\n",
      "INFO:root:Loss - 0.888710893121642\n",
      "INFO:root:Epoch: 15 - Average Loss: 0.888710893121642\n",
      "INFO:root:Loss - 0.8806108119102234\n",
      "INFO:root:Epoch: 16 - Average Loss: 0.8806108119102234\n",
      "INFO:root:Loss - 0.8727623480760286\n",
      "INFO:root:Epoch: 17 - Average Loss: 0.8727623480760286\n",
      "INFO:root:Loss - 0.8651650704520593\n",
      "INFO:root:Epoch: 18 - Average Loss: 0.8651650704520593\n",
      "INFO:root:Loss - 0.8578183232092763\n",
      "INFO:root:Epoch: 19 - Average Loss: 0.8578183232092763\n",
      "INFO:root:Loss - 0.8507212280420394\n",
      "INFO:root:Epoch: 20 - Average Loss: 0.8507212280420394\n",
      "INFO:root:Loss - 0.8438726871378252\n",
      "INFO:root:Epoch: 21 - Average Loss: 0.8438726871378252\n",
      "INFO:root:Loss - 0.8372713869075133\n",
      "INFO:root:Epoch: 22 - Average Loss: 0.8372713869075133\n",
      "INFO:root:Loss - 0.8309158024469678\n",
      "INFO:root:Epoch: 23 - Average Loss: 0.8309158024469678\n",
      "INFO:root:Loss - 0.8248042026956042\n",
      "INFO:root:Epoch: 24 - Average Loss: 0.8248042026956042\n",
      "INFO:root:Loss - 0.8189346562529204\n",
      "INFO:root:Epoch: 25 - Average Loss: 0.8189346562529204\n",
      "INFO:root:Loss - 0.8133050378098267\n",
      "INFO:root:Epoch: 26 - Average Loss: 0.8133050378098267\n",
      "INFO:root:Loss - 0.8079130351479772\n",
      "INFO:root:Epoch: 27 - Average Loss: 0.8079130351479772\n",
      "INFO:root:Loss - 0.8027561566572307\n",
      "INFO:root:Epoch: 28 - Average Loss: 0.8027561566572307\n",
      "INFO:root:Loss - 0.7978317393189107\n",
      "INFO:root:Epoch: 29 - Average Loss: 0.7978317393189107\n",
      "INFO:root:Loss - 0.7931369571006417\n",
      "INFO:root:Epoch: 30 - Average Loss: 0.7931369571006417\n",
      "INFO:root:Loss - 0.7886688297072739\n",
      "INFO:root:Epoch: 31 - Average Loss: 0.7886688297072739\n",
      "INFO:root:Loss - 0.784424231631703\n",
      "INFO:root:Epoch: 32 - Average Loss: 0.784424231631703\n",
      "INFO:root:Loss - 0.7803999014493072\n",
      "INFO:root:Epoch: 33 - Average Loss: 0.7803999014493072\n",
      "INFO:root:Loss - 0.7765924513001184\n",
      "INFO:root:Epoch: 34 - Average Loss: 0.7765924513001184\n",
      "INFO:root:Loss - 0.7729983765038281\n",
      "INFO:root:Epoch: 35 - Average Loss: 0.7729983765038281\n",
      "INFO:root:Loss - 0.7696140652541229\n",
      "INFO:root:Epoch: 36 - Average Loss: 0.7696140652541229\n",
      "INFO:root:Loss - 0.7664358083407208\n",
      "INFO:root:Epoch: 37 - Average Loss: 0.7664358083407208\n",
      "INFO:root:Loss - 0.763459808849711\n",
      "INFO:root:Epoch: 38 - Average Loss: 0.763459808849711\n",
      "INFO:root:Loss - 0.7606821917953746\n",
      "INFO:root:Epoch: 39 - Average Loss: 0.7606821917953746\n",
      "INFO:root:Loss - 0.7580990136395329\n",
      "INFO:root:Epoch: 40 - Average Loss: 0.7580990136395329\n",
      "INFO:root:Loss - 0.7557062716575489\n",
      "INFO:root:Epoch: 41 - Average Loss: 0.7557062716575489\n",
      "INFO:root:Loss - 0.7534999131133989\n",
      "INFO:root:Epoch: 42 - Average Loss: 0.7534999131133989\n",
      "INFO:root:Loss - 0.7514758442095887\n",
      "INFO:root:Epoch: 43 - Average Loss: 0.7514758442095887\n",
      "INFO:root:Loss - 0.749629938781241\n",
      "INFO:root:Epoch: 44 - Average Loss: 0.749629938781241\n",
      "INFO:root:Loss - 0.7479580467071294\n",
      "INFO:root:Epoch: 45 - Average Loss: 0.7479580467071294\n",
      "INFO:root:Loss - 0.7464560020139822\n",
      "INFO:root:Epoch: 46 - Average Loss: 0.7464560020139822\n",
      "INFO:root:Loss - 0.7451196306538493\n",
      "INFO:root:Epoch: 47 - Average Loss: 0.7451196306538493\n",
      "INFO:root:Loss - 0.7439447579376914\n",
      "INFO:root:Epoch: 48 - Average Loss: 0.7439447579376914\n",
      "INFO:root:Loss - 0.7429272156116479\n",
      "INFO:root:Epoch: 49 - Average Loss: 0.7429272156116479\n",
      "INFO:root:Loss - 0.7420628485655815\n",
      "INFO:root:Epoch: 50 - Average Loss: 0.7420628485655815\n",
      "INFO:root:Loss - 0.7413475211664682\n",
      "INFO:root:Epoch: 51 - Average Loss: 0.7413475211664682\n",
      "INFO:root:Loss - 0.7407771232120275\n",
      "INFO:root:Epoch: 52 - Average Loss: 0.7407771232120275\n",
      "INFO:root:Loss - 0.7403475755026047\n",
      "INFO:root:Epoch: 53 - Average Loss: 0.7403475755026047\n",
      "INFO:root:Loss - 0.7400548350317382\n",
      "INFO:root:Epoch: 54 - Average Loss: 0.7400548350317382\n",
      "INFO:root:Loss - 0.7398948997980588\n",
      "INFO:root:Epoch: 55 - Average Loss: 0.7398948997980588\n",
      "INFO:root:Loss - 0.7398638132431983\n",
      "INFO:root:Epoch: 56 - Average Loss: 0.7398638132431983\n",
      "INFO:root:Loss - 0.7399576683221518\n",
      "INFO:root:Epoch: 57 - Average Loss: 0.7399576683221518\n",
      "INFO:root:Loss - 0.7401726112141793\n",
      "INFO:root:Epoch: 58 - Average Loss: 0.7401726112141793\n",
      "INFO:root:Loss - 0.7405048446836815\n",
      "INFO:root:Epoch: 59 - Average Loss: 0.7405048446836815\n",
      "INFO:root:Loss - 0.7409506311017167\n",
      "INFO:root:Epoch: 60 - Average Loss: 0.7409506311017167\n",
      "INFO:root:Loss - 0.741506295139836\n",
      "INFO:root:Epoch: 61 - Average Loss: 0.741506295139836\n",
      "INFO:root:Loss - 0.7421682261487352\n",
      "INFO:root:Epoch: 62 - Average Loss: 0.7421682261487352\n",
      "INFO:root:Loss - 0.7429328802349052\n",
      "INFO:root:Epoch: 63 - Average Loss: 0.7429328802349052\n",
      "INFO:root:Loss - 0.7437967820489783\n",
      "INFO:root:Epoch: 64 - Average Loss: 0.7437967820489783\n",
      "INFO:root:Loss - 0.7447565262998311\n",
      "INFO:root:Epoch: 65 - Average Loss: 0.7447565262998311\n",
      "INFO:root:Loss - 0.7458087790087469\n",
      "INFO:root:Epoch: 66 - Average Loss: 0.7458087790087469\n",
      "INFO:root:Loss - 0.7469502785180598\n",
      "INFO:root:Epoch: 67 - Average Loss: 0.7469502785180598\n",
      "INFO:root:Loss - 0.7481778362687134\n",
      "INFO:root:Epoch: 68 - Average Loss: 0.7481778362687134\n",
      "INFO:root:Loss - 0.7494883373610756\n",
      "INFO:root:Epoch: 69 - Average Loss: 0.7494883373610756\n",
      "INFO:root:Loss - 0.750878740913186\n",
      "INFO:root:Epoch: 70 - Average Loss: 0.750878740913186\n",
      "INFO:root:Loss - 0.7523460802303523\n",
      "INFO:root:Epoch: 71 - Average Loss: 0.7523460802303523\n",
      "INFO:root:Loss - 0.7538874627997211\n",
      "INFO:root:Epoch: 72 - Average Loss: 0.7538874627997211\n",
      "INFO:root:Loss - 0.7555000701230677\n",
      "INFO:root:Epoch: 73 - Average Loss: 0.7555000701230677\n",
      "INFO:root:Loss - 0.7571811574006206\n",
      "INFO:root:Epoch: 74 - Average Loss: 0.7571811574006206\n",
      "INFO:root:Loss - 0.7589280530783422\n",
      "INFO:root:Epoch: 75 - Average Loss: 0.7589280530783422\n",
      "INFO:root:Loss - 0.7607381582705318\n",
      "INFO:root:Epoch: 76 - Average Loss: 0.7607381582705318\n",
      "INFO:root:Loss - 0.7626089460691804\n",
      "INFO:root:Epoch: 77 - Average Loss: 0.7626089460691804\n",
      "INFO:root:Loss - 0.764537960750947\n",
      "INFO:root:Epoch: 78 - Average Loss: 0.764537960750947\n",
      "INFO:root:Loss - 0.7665228168921182\n",
      "INFO:root:Epoch: 79 - Average Loss: 0.7665228168921182\n",
      "INFO:root:Loss - 0.7685611984013642\n",
      "INFO:root:Epoch: 80 - Average Loss: 0.7685611984013642\n",
      "INFO:root:Loss - 0.7706508574795765\n",
      "INFO:root:Epoch: 81 - Average Loss: 0.7706508574795765\n",
      "INFO:root:Loss - 0.7727896135155433\n",
      "INFO:root:Epoch: 82 - Average Loss: 0.7727896135155433\n",
      "INFO:root:Loss - 0.7749753519256727\n",
      "INFO:root:Epoch: 83 - Average Loss: 0.7749753519256727\n",
      "INFO:root:Loss - 0.7772060229454892\n",
      "INFO:root:Epoch: 84 - Average Loss: 0.7772060229454892\n",
      "INFO:root:Loss - 0.7794796403800766\n",
      "INFO:root:Epoch: 85 - Average Loss: 0.7794796403800766\n",
      "INFO:root:Loss - 0.7817942803202178\n",
      "INFO:root:Epoch: 86 - Average Loss: 0.7817942803202178\n",
      "INFO:root:Loss - 0.784148079830416\n",
      "INFO:root:Epoch: 87 - Average Loss: 0.784148079830416\n",
      "INFO:root:Loss - 0.7865392356146166\n",
      "INFO:root:Epoch: 88 - Average Loss: 0.7865392356146166\n",
      "INFO:root:Loss - 0.7889660026649392\n",
      "INFO:root:Epoch: 89 - Average Loss: 0.7889660026649392\n",
      "INFO:root:Loss - 0.7914266928983347\n",
      "INFO:root:Epoch: 90 - Average Loss: 0.7914266928983347\n",
      "INFO:root:Loss - 0.7939196737856885\n",
      "INFO:root:Epoch: 91 - Average Loss: 0.7939196737856885\n",
      "INFO:root:Loss - 0.796443366977484\n",
      "INFO:root:Epoch: 92 - Average Loss: 0.796443366977484\n",
      "INFO:root:Loss - 0.7989962469297978\n",
      "INFO:root:Epoch: 93 - Average Loss: 0.7989962469297978\n",
      "INFO:root:Loss - 0.8015768395340437\n",
      "INFO:root:Epoch: 94 - Average Loss: 0.8015768395340437\n",
      "INFO:root:Loss - 0.8041837207535658\n",
      "INFO:root:Epoch: 95 - Average Loss: 0.8041837207535658\n",
      "INFO:root:Loss - 0.8068155152698612\n",
      "INFO:root:Epoch: 96 - Average Loss: 0.8068155152698612\n",
      "INFO:root:Loss - 0.8094708951409547\n",
      "INFO:root:Epoch: 97 - Average Loss: 0.8094708951409547\n",
      "INFO:root:Loss - 0.8121485784741374\n",
      "INFO:root:Epoch: 98 - Average Loss: 0.8121485784741374\n",
      "INFO:root:Loss - 0.8148473281150883\n",
      "INFO:root:Epoch: 99 - Average Loss: 0.8148473281150883\n"
     ]
    }
   ],
   "source": [
    "\n",
    "\n",
    "net = NeuNet(tr_X, tr_y)\n",
    "net.input_layer()\n",
    "net.add_hidden_layer(2, \"sigmoid\")\n",
    "net.add_hidden_layer(2, \"sigmoid\")\n",
    "net.output_layer(1, \"sigmoid\")\n",
    "net.initialize_weights()\n",
    "\n",
    "ff = FeedForward(net)\n",
    "bp = BackProp(forward_pass=ff, learning_rate=0.00001, loss_function=\"binary_cross_entropy\")\n",
    "epoch = 100\n",
    "tr = Learner(backprop=bp, epoch=epoch)\n",
    "loss = tr.train()\n"
   ]
  },
  {
   "cell_type": "code",
   "execution_count": 7,
   "metadata": {},
   "outputs": [
    {
     "data": {
      "image/png": "[encoded data removed]",
      "text/plain": [
       "<Figure size 600x600 with 1 Axes>"
      ]
     },
     "metadata": {},
     "output_type": "display_data"
    }
   ],
   "source": [
    "tr.plot_loss()\n"
   ]
  },
  {
   "cell_type": "code",
   "execution_count": 9,
   "metadata": {},
   "outputs": [
    {
     "data": {
      "text/plain": [
       "np.float64(0.5)"
      ]
     },
     "execution_count": 9,
     "metadata": {},
     "output_type": "execute_result"
    }
   ],
   "source": [
    "tr.binary_classification_accuracy(test_data=tr_X, test_label=tr_y)\n",
    "# tr_X"
   ]
  },
  {
   "cell_type": "code",
   "execution_count": 12,
   "metadata": {},
   "outputs": [
    {
     "data": {
      "text/plain": [
       "201"
      ]
     },
     "execution_count": 12,
     "metadata": {},
     "output_type": "execute_result"
    }
   ],
   "source": [
    "from math import ceil\n",
    "\n",
    "ceil(300* 0.667)"
   ]
  },
  {
   "cell_type": "code",
   "execution_count": 11,
   "metadata": {},
   "outputs": [
    {
     "data": {
      "text/plain": [
       "200.10000000000002"
      ]
     },
     "execution_count": 11,
     "metadata": {},
     "output_type": "execute_result"
    }
   ],
   "source": [
    "300* 0.667"
   ]
  },
  {
   "cell_type": "code",
   "execution_count": 8,
   "metadata": {},
   "outputs": [
    {
     "data": {
      "text/html": [
       "<div>\n",
       "<style scoped>\n",
       "    .dataframe tbody tr th:only-of-type {\n",
       "        vertical-align: middle;\n",
       "    }\n",
       "\n",
       "    .dataframe tbody tr th {\n",
       "        vertical-align: top;\n",
       "    }\n",
       "\n",
       "    .dataframe thead th {\n",
       "        text-align: right;\n",
       "    }\n",
       "</style>\n",
       "<table border=\"1\" class=\"dataframe\">\n",
       "  <thead>\n",
       "    <tr style=\"text-align: right;\">\n",
       "      <th></th>\n",
       "      <th>Unnamed: 0</th>\n",
       "      <th>x_0</th>\n",
       "      <th>x_1</th>\n",
       "      <th>x_2</th>\n",
       "      <th>x_3</th>\n",
       "      <th>y</th>\n",
       "    </tr>\n",
       "  </thead>\n",
       "  <tbody>\n",
       "    <tr>\n",
       "      <th>192</th>\n",
       "      <td>192</td>\n",
       "      <td>2.550142</td>\n",
       "      <td>1.890229</td>\n",
       "      <td>1.248802</td>\n",
       "      <td>1.551300</td>\n",
       "      <td>1.0</td>\n",
       "    </tr>\n",
       "    <tr>\n",
       "      <th>146</th>\n",
       "      <td>146</td>\n",
       "      <td>2.228708</td>\n",
       "      <td>2.539099</td>\n",
       "      <td>2.514468</td>\n",
       "      <td>2.005175</td>\n",
       "      <td>1.0</td>\n",
       "    </tr>\n",
       "    <tr>\n",
       "      <th>91</th>\n",
       "      <td>91</td>\n",
       "      <td>0.611223</td>\n",
       "      <td>0.133525</td>\n",
       "      <td>-0.240514</td>\n",
       "      <td>-0.111338</td>\n",
       "      <td>0.0</td>\n",
       "    </tr>\n",
       "    <tr>\n",
       "      <th>124</th>\n",
       "      <td>124</td>\n",
       "      <td>1.934947</td>\n",
       "      <td>2.121059</td>\n",
       "      <td>1.812426</td>\n",
       "      <td>1.199082</td>\n",
       "      <td>1.0</td>\n",
       "    </tr>\n",
       "    <tr>\n",
       "      <th>151</th>\n",
       "      <td>151</td>\n",
       "      <td>2.410124</td>\n",
       "      <td>2.048161</td>\n",
       "      <td>0.839703</td>\n",
       "      <td>1.169201</td>\n",
       "      <td>1.0</td>\n",
       "    </tr>\n",
       "    <tr>\n",
       "      <th>...</th>\n",
       "      <td>...</td>\n",
       "      <td>...</td>\n",
       "      <td>...</td>\n",
       "      <td>...</td>\n",
       "      <td>...</td>\n",
       "      <td>...</td>\n",
       "    </tr>\n",
       "    <tr>\n",
       "      <th>60</th>\n",
       "      <td>60</td>\n",
       "      <td>-0.336230</td>\n",
       "      <td>-0.249016</td>\n",
       "      <td>-0.594430</td>\n",
       "      <td>0.349229</td>\n",
       "      <td>0.0</td>\n",
       "    </tr>\n",
       "    <tr>\n",
       "      <th>12</th>\n",
       "      <td>12</td>\n",
       "      <td>0.380519</td>\n",
       "      <td>-0.430613</td>\n",
       "      <td>0.393164</td>\n",
       "      <td>-0.563413</td>\n",
       "      <td>0.0</td>\n",
       "    </tr>\n",
       "    <tr>\n",
       "      <th>138</th>\n",
       "      <td>138</td>\n",
       "      <td>2.400282</td>\n",
       "      <td>1.898552</td>\n",
       "      <td>2.410161</td>\n",
       "      <td>1.947828</td>\n",
       "      <td>1.0</td>\n",
       "    </tr>\n",
       "    <tr>\n",
       "      <th>47</th>\n",
       "      <td>47</td>\n",
       "      <td>0.388745</td>\n",
       "      <td>0.558508</td>\n",
       "      <td>0.539809</td>\n",
       "      <td>0.078352</td>\n",
       "      <td>0.0</td>\n",
       "    </tr>\n",
       "    <tr>\n",
       "      <th>14</th>\n",
       "      <td>14</td>\n",
       "      <td>0.221932</td>\n",
       "      <td>-0.134002</td>\n",
       "      <td>-0.472223</td>\n",
       "      <td>-0.192440</td>\n",
       "      <td>0.0</td>\n",
       "    </tr>\n",
       "  </tbody>\n",
       "</table>\n",
       "<p>200 rows × 6 columns</p>\n",
       "</div>"
      ],
      "text/plain": [
       "     Unnamed: 0       x_0       x_1       x_2       x_3    y\n",
       "192         192  2.550142  1.890229  1.248802  1.551300  1.0\n",
       "146         146  2.228708  2.539099  2.514468  2.005175  1.0\n",
       "91           91  0.611223  0.133525 -0.240514 -0.111338  0.0\n",
       "124         124  1.934947  2.121059  1.812426  1.199082  1.0\n",
       "151         151  2.410124  2.048161  0.839703  1.169201  1.0\n",
       "..          ...       ...       ...       ...       ...  ...\n",
       "60           60 -0.336230 -0.249016 -0.594430  0.349229  0.0\n",
       "12           12  0.380519 -0.430613  0.393164 -0.563413  0.0\n",
       "138         138  2.400282  1.898552  2.410161  1.947828  1.0\n",
       "47           47  0.388745  0.558508  0.539809  0.078352  0.0\n",
       "14           14  0.221932 -0.134002 -0.472223 -0.192440  0.0\n",
       "\n",
       "[200 rows x 6 columns]"
      ]
     },
     "execution_count": 8,
     "metadata": {},
     "output_type": "execute_result"
    }
   ],
   "source": [
    "rand_df"
   ]
  },
  {
   "cell_type": "code",
   "execution_count": 9,
   "metadata": {},
   "outputs": [],
   "source": [
    "from src.utils.data_split import train_test_split\n",
    "\n",
    "tr_Data, test_data = train_test_split(rand_df, 0.7)"
   ]
  },
  {
   "cell_type": "code",
   "execution_count": 20,
   "metadata": {},
   "outputs": [
    {
     "ename": "ValueError",
     "evalue": "The value must be between 0.6 and 0.9. Provided 0.59.",
     "output_type": "error",
     "traceback": [
      "\u001b[31m---------------------------------------------------------------------------\u001b[39m",
      "\u001b[31mValueError\u001b[39m                                Traceback (most recent call last)",
      "\u001b[36mCell\u001b[39m\u001b[36m \u001b[39m\u001b[32mIn[20]\u001b[39m\u001b[32m, line 1\u001b[39m\n\u001b[32m----> \u001b[39m\u001b[32m1\u001b[39m tr_Data, test_data = \u001b[43mtrain_test_split\u001b[49m\u001b[43m(\u001b[49m\u001b[43mrand_df\u001b[49m\u001b[43m,\u001b[49m\u001b[43m \u001b[49m\u001b[32;43m0.59\u001b[39;49m\u001b[43m)\u001b[49m\n",
      "\u001b[36mFile \u001b[39m\u001b[32m~/ActionAI_2/NN_with_backprop/src/utils/data_split.py:13\u001b[39m, in \u001b[36mtrain_test_split\u001b[39m\u001b[34m(df, split_factor)\u001b[39m\n\u001b[32m     11\u001b[39m \u001b[38;5;28;01mdef\u001b[39;00m\u001b[38;5;250m \u001b[39m\u001b[34mtrain_test_split\u001b[39m(df: pd.DataFrame, split_factor: SplitFactor) -> Tuple[pd.DataFrame, pd.DataFrame]:\n\u001b[32m---> \u001b[39m\u001b[32m13\u001b[39m     split_factor = \u001b[43mSplitFactor\u001b[49m\u001b[43m(\u001b[49m\u001b[43msplit_factor\u001b[49m\u001b[43m)\u001b[49m\n\u001b[32m     14\u001b[39m     total_rows = df.shape[\u001b[32m0\u001b[39m]\n\u001b[32m     15\u001b[39m     ratio = ceil(total_rows * split_factor)\n",
      "\u001b[36mFile \u001b[39m\u001b[32m~/ActionAI_2/NN_with_backprop/src/utils/data_split.py:8\u001b[39m, in \u001b[36mSplitFactor.__new__\u001b[39m\u001b[34m(cls, val)\u001b[39m\n\u001b[32m      6\u001b[39m \u001b[38;5;28;01mdef\u001b[39;00m\u001b[38;5;250m \u001b[39m\u001b[34m__new__\u001b[39m(\u001b[38;5;28mcls\u001b[39m, val):\n\u001b[32m      7\u001b[39m     \u001b[38;5;28;01mif\u001b[39;00m \u001b[38;5;129;01mnot\u001b[39;00m \u001b[32m0.6\u001b[39m <= val <=\u001b[32m0.9\u001b[39m:\n\u001b[32m----> \u001b[39m\u001b[32m8\u001b[39m         \u001b[38;5;28;01mraise\u001b[39;00m \u001b[38;5;167;01mValueError\u001b[39;00m(\u001b[33mf\u001b[39m\u001b[33m\"\u001b[39m\u001b[33mThe value must be between 0.6 and 0.9. Provided \u001b[39m\u001b[38;5;132;01m{\u001b[39;00mval\u001b[38;5;132;01m}\u001b[39;00m\u001b[33m.\u001b[39m\u001b[33m\"\u001b[39m)\n\u001b[32m      9\u001b[39m     \u001b[38;5;28;01mreturn\u001b[39;00m \u001b[38;5;28mfloat\u001b[39m.\u001b[34m__new__\u001b[39m(\u001b[38;5;28mcls\u001b[39m, val)\n",
      "\u001b[31mValueError\u001b[39m: The value must be between 0.6 and 0.9. Provided 0.59."
     ]
    }
   ],
   "source": [
    "tr_Data, test_data = train_test_split(rand_df, 0.59)"
   ]
  },
  {
   "cell_type": "code",
   "execution_count": null,
   "metadata": {},
   "outputs": [],
   "source": []
  }
 ],
 "metadata": {
  "kernelspec": {
   "display_name": "nn_with_backprop",
   "language": "python",
   "name": "python3"
  },
  "language_info": {
   "codemirror_mode": {
    "name": "ipython",
    "version": 3
   },
   "file_extension": ".py",
   "mimetype": "text/x-python",
   "name": "python",
   "nbconvert_exporter": "python",
   "pygments_lexer": "ipython3",
   "version": "3.12.4"
  }
 },
 "nbformat": 4,
 "nbformat_minor": 2
}
