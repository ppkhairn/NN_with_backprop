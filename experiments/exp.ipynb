{
 "cells": [
  {
   "cell_type": "code",
   "execution_count": 1,
   "metadata": {},
   "outputs": [],
   "source": [
    "import sys\n",
    "import os\n",
    "\n",
    "# # Go up one level and then into src\n",
    "# src_path = os.path.abspath(os.path.join(\"..\", \"src\"))\n",
    "# print(\"Adding to sys.path:\", src_path)\n",
    "# sys.path.insert(0, src_path)\n",
    "\n",
    "# Add root dir to sys.path\n",
    "import sys\n",
    "from pathlib import Path\n",
    "\n",
    "# print(Path.cwd().parent)\n",
    "sys.path.append(str(Path.cwd().parent))  # or adjust as needed\n",
    "\n",
    "import numpy as np\n",
    "from src.utils.activations import sigmoid, relu, tanh\n",
    "from src.utils.loss_functions import binary_cross_entropy\n",
    "from src.utils.derivatives import diff_binary_cross_entropy\n",
    "\n",
    "activation_funcs = {\n",
    "    \"sigmoid\": sigmoid,\n",
    "    \"relu\": relu,\n",
    "    \"tanh\": tanh\n",
    "}\n"
   ]
  },
  {
   "cell_type": "code",
   "execution_count": 11,
   "metadata": {},
   "outputs": [],
   "source": [
    "# sys.path"
   ]
  },
  {
   "cell_type": "code",
   "execution_count": 3,
   "metadata": {},
   "outputs": [],
   "source": [
    "layers = []\n",
    "layers.append(np.zeros(3))\n",
    "layers.append(np.zeros(2))\n",
    "layers.append(np.zeros(2))\n",
    "layers.append(np.zeros(1))"
   ]
  },
  {
   "cell_type": "code",
   "execution_count": 4,
   "metadata": {},
   "outputs": [],
   "source": [
    "a_f = [\"sigmoid\", \"sigmoid\", \"sigmoid\"]"
   ]
  },
  {
   "cell_type": "code",
   "execution_count": 5,
   "metadata": {},
   "outputs": [
    {
     "data": {
      "text/plain": [
       "[array([0., 0., 0.]), array([0., 0.]), array([0., 0.]), array([0.])]"
      ]
     },
     "execution_count": 5,
     "metadata": {},
     "output_type": "execute_result"
    }
   ],
   "source": [
    "layers"
   ]
  },
  {
   "cell_type": "code",
   "execution_count": 6,
   "metadata": {},
   "outputs": [],
   "source": [
    "from utils.parameters_init import xavier_init\n",
    "\n",
    "shape = [(layers[i+1].shape[0], layers[i].shape[0]) for i in range(len(layers)-1)]\n",
    "weights = [xavier_init(i) for i in shape]\n",
    "biases = [xavier_init((i[0],)) for i in shape]"
   ]
  },
  {
   "cell_type": "code",
   "execution_count": 7,
   "metadata": {},
   "outputs": [
    {
     "data": {
      "text/plain": [
       "[(2, 3), (2, 2), (1, 2)]"
      ]
     },
     "execution_count": 7,
     "metadata": {},
     "output_type": "execute_result"
    }
   ],
   "source": [
    "shape"
   ]
  },
  {
   "cell_type": "code",
   "execution_count": 8,
   "metadata": {},
   "outputs": [
    {
     "data": {
      "text/plain": [
       "[array([[-0.39342589, -0.83212088, -0.86823405],\n",
       "        [ 0.01744419, -0.33931541, -1.0614814 ]]),\n",
       " array([[-0.57651914,  0.79572207],\n",
       "        [-0.19154693,  0.77534064]]),\n",
       " array([[-0.49843523,  0.38230388]])]"
      ]
     },
     "execution_count": 8,
     "metadata": {},
     "output_type": "execute_result"
    }
   ],
   "source": [
    "weights"
   ]
  },
  {
   "cell_type": "code",
   "execution_count": 9,
   "metadata": {},
   "outputs": [
    {
     "data": {
      "text/plain": [
       "[array([ 0.53075375, -0.6326686 ]),\n",
       " array([-0.43189567, -0.09908905]),\n",
       " array([-0.95434293])]"
      ]
     },
     "execution_count": 9,
     "metadata": {},
     "output_type": "execute_result"
    }
   ],
   "source": [
    "biases"
   ]
  },
  {
   "cell_type": "code",
   "execution_count": 18,
   "metadata": {},
   "outputs": [
    {
     "name": "stdout",
     "output_type": "stream",
     "text": [
      "((2, 3), (2,))\n",
      "((2, 2), (2,))\n",
      "((1, 2), (1,))\n"
     ]
    }
   ],
   "source": [
    "for i, j in zip(weights, biases):\n",
    "    print((i.shape, j.shape))"
   ]
  },
  {
   "cell_type": "code",
   "execution_count": 23,
   "metadata": {},
   "outputs": [
    {
     "data": {
      "text/plain": [
       "(2,)"
      ]
     },
     "execution_count": 23,
     "metadata": {},
     "output_type": "execute_result"
    }
   ],
   "source": [
    "np.array([1, 2]).shape"
   ]
  },
  {
   "cell_type": "code",
   "execution_count": 44,
   "metadata": {},
   "outputs": [],
   "source": [
    "for i in range(len(layers)-1):\n",
    "    layers[i+1] = weights[i] @ layers[i] + biases[i]\n",
    "    ac_func = activation_funcs[a_f[i]]\n",
    "    layers[i+1] = ac_func(layers[i+1])"
   ]
  },
  {
   "cell_type": "code",
   "execution_count": 45,
   "metadata": {},
   "outputs": [
    {
     "data": {
      "text/plain": [
       "[array([0., 0., 0.]),\n",
       " array([0.37761267, 0.33082915]),\n",
       " array([0.3713217 , 0.69279308]),\n",
       " array([0.05418484])]"
      ]
     },
     "execution_count": 45,
     "metadata": {},
     "output_type": "execute_result"
    }
   ],
   "source": [
    "layers"
   ]
  },
  {
   "cell_type": "code",
   "execution_count": 43,
   "metadata": {},
   "outputs": [
    {
     "data": {
      "text/plain": [
       "<function utils.activations.sigmoid(x)>"
      ]
     },
     "execution_count": 43,
     "metadata": {},
     "output_type": "execute_result"
    }
   ],
   "source": [
    "ac_func = activation_funcs[a_f[1]]\n",
    "ac_func"
   ]
  },
  {
   "cell_type": "code",
   "execution_count": 39,
   "metadata": {},
   "outputs": [
    {
     "data": {
      "text/plain": [
       "<function utils.activations.sigmoid(x)>"
      ]
     },
     "execution_count": 39,
     "metadata": {},
     "output_type": "execute_result"
    }
   ],
   "source": [
    "list(activation_funcs.values())[0]"
   ]
  },
  {
   "cell_type": "code",
   "execution_count": 23,
   "metadata": {},
   "outputs": [
    {
     "data": {
      "text/plain": [
       "array([-0.26006705,  0.9547276 ])"
      ]
     },
     "execution_count": 23,
     "metadata": {},
     "output_type": "execute_result"
    }
   ],
   "source": [
    "biases[1]"
   ]
  },
  {
   "cell_type": "code",
   "execution_count": 22,
   "metadata": {},
   "outputs": [
    {
     "data": {
      "text/plain": [
       "array([0.43534722, 0.72206494])"
      ]
     },
     "execution_count": 22,
     "metadata": {},
     "output_type": "execute_result"
    }
   ],
   "source": [
    "sigmoid(biases[1])"
   ]
  },
  {
   "cell_type": "code",
   "execution_count": 29,
   "metadata": {},
   "outputs": [],
   "source": [
    "a= 1 / (1 + np.exp( - (np.array([5.97529062]))))"
   ]
  },
  {
   "cell_type": "code",
   "execution_count": 33,
   "metadata": {},
   "outputs": [
    {
     "data": {
      "text/plain": [
       "array([ True])"
      ]
     },
     "execution_count": 33,
     "metadata": {},
     "output_type": "execute_result"
    }
   ],
   "source": [
    "a == 0.997465675536554"
   ]
  },
  {
   "cell_type": "code",
   "execution_count": 25,
   "metadata": {},
   "outputs": [
    {
     "data": {
      "text/plain": [
       "array([-7, -8])"
      ]
     },
     "execution_count": 25,
     "metadata": {},
     "output_type": "execute_result"
    }
   ],
   "source": [
    "- np.array([7, 8])"
   ]
  },
  {
   "cell_type": "code",
   "execution_count": 25,
   "metadata": {},
   "outputs": [
    {
     "data": {
      "text/plain": [
       "0.7220746551277553"
      ]
     },
     "execution_count": 25,
     "metadata": {},
     "output_type": "execute_result"
    }
   ],
   "source": [
    "import math\n",
    "1 / (1 + math.exp(-0.954776))"
   ]
  },
  {
   "cell_type": "code",
   "execution_count": 14,
   "metadata": {},
   "outputs": [
    {
     "data": {
      "text/plain": [
       "array([[1],\n",
       "       [2],\n",
       "       [3]])"
      ]
     },
     "execution_count": 14,
     "metadata": {},
     "output_type": "execute_result"
    }
   ],
   "source": [
    "tr_data = np.array([[1, 2, 3]])\n",
    "tr_data.T"
   ]
  },
  {
   "cell_type": "code",
   "execution_count": null,
   "metadata": {},
   "outputs": [
    {
     "data": {
      "text/plain": [
       "array([[-1.00254076]])"
      ]
     },
     "execution_count": 17,
     "metadata": {},
     "output_type": "execute_result"
    }
   ],
   "source": [
    "diff_binary_cross_entropy(np.array([[0.997465675536554]]), np.array([[1]]))\n",
    "\n",
    "ans = array([[-1.00254076]])"
   ]
  },
  {
   "cell_type": "code",
   "execution_count": 1,
   "metadata": {},
   "outputs": [],
   "source": [
    "import numpy as np\n",
    "np.random.seed(0)\n",
    "n_samples = 100\n",
    "\n",
    "# Class 0: centered around (0,0)\n",
    "X0 = np.random.randn(2, n_samples) * 0.5 + np.array([[0], [0]])\n",
    "y0 = np.zeros((1, n_samples))\n",
    "\n",
    "# Class 1: centered around (2,2)\n",
    "X1 = np.random.randn(2, n_samples) * 0.5 + np.array([[2], [2]])\n",
    "y1 = np.ones((1, n_samples))\n",
    "\n",
    "# Combine\n",
    "tr_X = np.concatenate([X0, X1], axis=1)  # shape (2, 200)\n",
    "tr_y = np.concatenate([y0, y1], axis=1)  # shape (1, 200)"
   ]
  },
  {
   "cell_type": "code",
   "execution_count": 7,
   "metadata": {},
   "outputs": [
    {
     "data": {
      "text/plain": [
       "array([[-7.75214673e-01,  2.08659411e-01, -4.72184245e-01,\n",
       "         1.19051574e-01, -7.02981458e-01, -2.95028823e-01,\n",
       "        -5.52447025e-02, -8.30349906e-01,  5.75739366e-02,\n",
       "        -1.89573781e-01, -8.71178099e-01, -6.51621377e-01,\n",
       "         3.02560042e-01,  4.47777993e-01, -6.59543199e-02,\n",
       "         2.02380906e-01,  1.11921782e-01,  1.64811491e-01,\n",
       "         6.42992004e-01, -7.53499199e-01,  3.38230366e-01,\n",
       "        -1.91004478e-01, -1.12129467e-01, -1.51124865e-01,\n",
       "        -1.87573558e-01, -6.13098096e-01,  9.16695996e-02,\n",
       "         8.35471516e-01, -2.80665102e-02, -6.92521368e-04,\n",
       "        -3.43649519e-01, -5.87372732e-02,  2.33083213e-01,\n",
       "        -1.85121220e-01, -2.26902021e-01,  2.01632270e-01,\n",
       "        -4.59002385e-01,  1.26248314e-01,  4.10160899e-01,\n",
       "         6.79974271e-01, -4.51910036e-02,  6.83798620e-01,\n",
       "         5.17204943e-01, -4.98106320e-01, -6.08969256e-01,\n",
       "        -1.52481819e-01,  5.14467746e-01, -3.61435038e-02,\n",
       "        -3.00328779e-01,  7.76121590e-01,  1.43452244e-01,\n",
       "        -1.16029714e+00,  1.58580313e-01,  2.60020307e-01,\n",
       "         1.12804327e-01,  2.24856050e-01, -3.36378045e-02,\n",
       "        -6.59197935e-01, -1.85352002e-01, -4.72807898e-01,\n",
       "        -4.66370455e-01, -6.31534175e-01,  2.26244546e-01,\n",
       "         4.89480727e-02, -2.24082681e-01, -3.24668964e-01,\n",
       "        -1.17115525e-02,  5.39597364e-01, -1.00210786e+00,\n",
       "         1.88438260e-01, -2.72855987e-01, -9.42292922e-01,\n",
       "        -9.72851542e-01, -4.56391747e-01,  1.09754778e-01,\n",
       "         1.96531467e-01, -4.69490786e-01,  5.08510496e-01,\n",
       "         7.11491748e-01,  1.98043292e-01, -2.95701334e-01,\n",
       "         5.62209592e-01,  3.77697848e-01,  4.33703706e-01,\n",
       "        -3.28231837e-01, -1.41727725e+00,  1.05839551e+00,\n",
       "        -8.05439202e-01, -1.78840359e-02,  1.19037268e+00,\n",
       "         1.65288378e-01,  4.74623237e-01, -7.51198285e-01,\n",
       "        -8.88833477e-01, -2.66351396e-01,  5.45374867e-01,\n",
       "        -1.73124724e-01, -3.97318161e-01,  9.89836450e-02,\n",
       "         5.40967609e-01],\n",
       "       [-7.22470100e-01, -6.05271497e-01, -3.94334627e-01,\n",
       "         5.47319187e-01,  1.17410763e-01,  1.06607671e+00,\n",
       "         4.68222863e-01, -1.75475884e-02,  6.32538919e-01,\n",
       "         1.05748506e-01, -3.52460676e-01,  3.39987422e-01,\n",
       "        -3.48163327e-01, -1.45198550e-01,  6.63891348e-01,\n",
       "        -5.06407431e-02, -4.01570694e-01, -2.32168846e-01,\n",
       "         5.10895293e-01, -2.76270337e-01, -1.93435423e-01,\n",
       "        -2.55146370e-01,  9.19627472e-02, -1.92744880e-01,\n",
       "        -8.00918024e-01, -4.43590471e-01, -4.66394521e-01,\n",
       "         6.21659692e-01,  4.06337021e-01,  2.93629690e-01,\n",
       "        -2.52679159e-01, -4.07895771e-01, -2.53758801e-01,\n",
       "        -5.25940051e-01,  1.24860020e+00, -1.12266082e+00,\n",
       "         2.82004268e-01, -6.42276149e-01, -5.21717457e-02,\n",
       "        -4.94000971e-01, -5.88814481e-01, -5.70098150e-01,\n",
       "         8.77493077e-01, -6.64942112e-02, -3.82851097e-01,\n",
       "         2.77893482e-01,  5.17465728e-03,  3.60016880e-01,\n",
       "        -9.12128328e-01,  1.51801952e-01,  3.86347419e-01,\n",
       "        -8.30799146e-01,  2.24097642e-01,  8.48090786e-01,\n",
       "        -7.42885168e-03,  4.10702969e-01,  3.35285225e-01,\n",
       "        -3.53752849e-01,  1.98833673e-02, -7.83497355e-01,\n",
       "        -2.25651519e-01,  1.32843987e-01,  3.61550247e-01,\n",
       "         1.23060626e-02,  3.59991865e-01, -5.51453106e-01,\n",
       "        -5.08486373e-02,  9.63969226e-03,  9.24795623e-01,\n",
       "        -1.07083328e-01, -2.49508319e-01,  1.06756119e-02,\n",
       "        -4.59556722e-01,  9.63769245e-02, -1.82527608e-01,\n",
       "        -8.95663774e-01, -2.92932756e-02, -1.58771547e-01,\n",
       "        -8.16211651e-01, -3.35670773e-02,  7.44677981e-01,\n",
       "         2.60651874e-01,  3.05963596e-01, -6.70748363e-01,\n",
       "         2.38449184e-01,  7.42247907e-02,  2.64522619e-01,\n",
       "         2.11314311e-01, -6.79890363e-01, -2.07004058e-02,\n",
       "        -3.78935430e-01, -2.50420471e-02, -4.48700463e-01,\n",
       "         6.56235184e-01, -4.29486194e-01, -4.49471078e-01,\n",
       "         3.72932033e-02, -5.38549535e-01, -2.12331651e-01,\n",
       "        -4.14982299e-01]])"
      ]
     },
     "execution_count": 7,
     "metadata": {},
     "output_type": "execute_result"
    }
   ],
   "source": [
    "np.random.randn(2, n_samples) *.5"
   ]
  },
  {
   "cell_type": "code",
   "execution_count": 5,
   "metadata": {},
   "outputs": [
    {
     "data": {
      "text/plain": [
       "(2, 100)"
      ]
     },
     "execution_count": 5,
     "metadata": {},
     "output_type": "execute_result"
    }
   ],
   "source": [
    "X0.shape"
   ]
  },
  {
   "cell_type": "code",
   "execution_count": 2,
   "metadata": {},
   "outputs": [
    {
     "data": {
      "image/png": "[encoded data removed]",
      "text/plain": [
       "<Figure size 600x600 with 1 Axes>"
      ]
     },
     "metadata": {},
     "output_type": "display_data"
    }
   ],
   "source": [
    "import matplotlib.pyplot as plt\n",
    "\n",
    "# Assume tr_X.shape = (2, 200) and tr_y.shape = (1, 200)\n",
    "x = tr_X[0, :]  # First feature (x-axis)\n",
    "y = tr_X[1, :]  # Second feature (y-axis)\n",
    "labels = tr_y[0, :]  # Labels: 0 or 1\n",
    "\n",
    "# Scatter plot with color by label\n",
    "plt.figure(figsize=(6, 6))\n",
    "plt.scatter(x, y, c=labels, cmap='bwr', edgecolor='k', s=40)\n",
    "plt.xlabel(\"Feature 1\")\n",
    "plt.ylabel(\"Feature 2\")\n",
    "plt.title(\"2D Binary Classification Dataset\")\n",
    "plt.grid(True)\n",
    "plt.show()\n"
   ]
  },
  {
   "cell_type": "code",
   "execution_count": 8,
   "metadata": {},
   "outputs": [
    {
     "data": {
      "image/png": "[encoded data removed]",
      "text/plain": [
       "<Figure size 1000x600 with 1 Axes>"
      ]
     },
     "metadata": {},
     "output_type": "display_data"
    }
   ],
   "source": [
    "import numpy as np\n",
    "import matplotlib.pyplot as plt\n",
    "\n",
    "# Generate 100,000 samples from N(0,1)\n",
    "samples = np.random.randn(100000)\n",
    "\n",
    "plt.figure(figsize=(10,6))\n",
    "plt.hist(samples, bins=100, density=True, alpha=0.6, color='skyblue', label='Samples')\n",
    "\n",
    "# Plot lines for ±1σ, ±2σ, ±3σ\n",
    "for sigma in [1, 2, 3]:\n",
    "    plt.axvline(x=sigma, color='r', linestyle='--', label=f'+{sigma}σ' if sigma == 1 else \"\")\n",
    "    plt.axvline(x=-sigma, color='r', linestyle='--', label=f'-{sigma}σ' if sigma == 1 else \"\")\n",
    "\n",
    "plt.title('Histogram of 100,000 samples from Standard Normal Distribution')\n",
    "plt.xlabel('Value')\n",
    "plt.ylabel('Density')\n",
    "plt.legend()\n",
    "plt.grid(True)\n",
    "plt.show()\n"
   ]
  },
  {
   "cell_type": "code",
   "execution_count": 22,
   "metadata": {},
   "outputs": [],
   "source": [
    "import pandas as pd\n",
    "from pathlib import Path\n",
    "import os\n",
    "import random\n",
    "\n",
    "# resolve paths\n",
    "# curr_script = Path(__file__)\n",
    "curr_script = Path.cwd()\n",
    "curr_folder = curr_script.parent\n",
    "data_folder = curr_folder / \"data\"\n",
    "data_content = data_folder / \"data_to_test\""
   ]
  },
  {
   "cell_type": "code",
   "execution_count": 23,
   "metadata": {},
   "outputs": [
    {
     "data": {
      "text/plain": [
       "['binary_classification_data.csv']"
      ]
     },
     "execution_count": 23,
     "metadata": {},
     "output_type": "execute_result"
    }
   ],
   "source": [
    "os.listdir(data_content)"
   ]
  },
  {
   "cell_type": "code",
   "execution_count": 24,
   "metadata": {},
   "outputs": [
    {
     "data": {
      "text/html": [
       "<div>\n",
       "<style scoped>\n",
       "    .dataframe tbody tr th:only-of-type {\n",
       "        vertical-align: middle;\n",
       "    }\n",
       "\n",
       "    .dataframe tbody tr th {\n",
       "        vertical-align: top;\n",
       "    }\n",
       "\n",
       "    .dataframe thead th {\n",
       "        text-align: right;\n",
       "    }\n",
       "</style>\n",
       "<table border=\"1\" class=\"dataframe\">\n",
       "  <thead>\n",
       "    <tr style=\"text-align: right;\">\n",
       "      <th></th>\n",
       "      <th>x_0</th>\n",
       "      <th>x_1</th>\n",
       "      <th>y</th>\n",
       "    </tr>\n",
       "  </thead>\n",
       "  <tbody>\n",
       "    <tr>\n",
       "      <th>0</th>\n",
       "      <td>0.882026</td>\n",
       "      <td>0.941575</td>\n",
       "      <td>0.0</td>\n",
       "    </tr>\n",
       "    <tr>\n",
       "      <th>1</th>\n",
       "      <td>0.200079</td>\n",
       "      <td>-0.673880</td>\n",
       "      <td>0.0</td>\n",
       "    </tr>\n",
       "    <tr>\n",
       "      <th>2</th>\n",
       "      <td>0.489369</td>\n",
       "      <td>-0.635242</td>\n",
       "      <td>0.0</td>\n",
       "    </tr>\n",
       "    <tr>\n",
       "      <th>3</th>\n",
       "      <td>1.120447</td>\n",
       "      <td>0.484698</td>\n",
       "      <td>0.0</td>\n",
       "    </tr>\n",
       "    <tr>\n",
       "      <th>4</th>\n",
       "      <td>0.933779</td>\n",
       "      <td>-0.586562</td>\n",
       "      <td>0.0</td>\n",
       "    </tr>\n",
       "  </tbody>\n",
       "</table>\n",
       "</div>"
      ],
      "text/plain": [
       "        x_0       x_1    y\n",
       "0  0.882026  0.941575  0.0\n",
       "1  0.200079 -0.673880  0.0\n",
       "2  0.489369 -0.635242  0.0\n",
       "3  1.120447  0.484698  0.0\n",
       "4  0.933779 -0.586562  0.0"
      ]
     },
     "execution_count": 24,
     "metadata": {},
     "output_type": "execute_result"
    }
   ],
   "source": [
    "df = pd.read_csv(data_content / \"binary_classification_data.csv\")\n",
    "df = df.iloc[:, 1:4]\n",
    "df.head()"
   ]
  },
  {
   "cell_type": "code",
   "execution_count": 33,
   "metadata": {},
   "outputs": [
    {
     "data": {
      "text/plain": [
       "201"
      ]
     },
     "execution_count": 33,
     "metadata": {},
     "output_type": "execute_result"
    }
   ],
   "source": [
    "df.shape[0]+1"
   ]
  },
  {
   "cell_type": "code",
   "execution_count": 44,
   "metadata": {},
   "outputs": [
    {
     "data": {
      "text/plain": [
       "200"
      ]
     },
     "execution_count": 44,
     "metadata": {},
     "output_type": "execute_result"
    }
   ],
   "source": [
    "random_list = random.sample(range(0, df.shape[0]), df.shape[0])\n",
    "len(random_list)\n"
   ]
  },
  {
   "cell_type": "code",
   "execution_count": null,
   "metadata": {},
   "outputs": [
    {
     "data": {
      "text/plain": [
       "RangeIndex(start=0, stop=200, step=1)"
      ]
     },
     "execution_count": 40,
     "metadata": {},
     "output_type": "execute_result"
    }
   ],
   "source": [
    "df.index.sort_values()"
   ]
  },
  {
   "cell_type": "code",
   "execution_count": 25,
   "metadata": {},
   "outputs": [
    {
     "data": {
      "text/plain": [
       "4"
      ]
     },
     "execution_count": 25,
     "metadata": {},
     "output_type": "execute_result"
    }
   ],
   "source": [
    "random.randint(1, 5)"
   ]
  },
  {
   "cell_type": "code",
   "execution_count": null,
   "metadata": {},
   "outputs": [],
   "source": [
    "random_list = random.sample(range(0, 101), 100)"
   ]
  },
  {
   "cell_type": "code",
   "execution_count": 28,
   "metadata": {},
   "outputs": [
    {
     "data": {
      "text/plain": [
       "100"
      ]
     },
     "execution_count": 28,
     "metadata": {},
     "output_type": "execute_result"
    }
   ],
   "source": [
    "len(a)"
   ]
  },
  {
   "cell_type": "code",
   "execution_count": 45,
   "metadata": {},
   "outputs": [
    {
     "data": {
      "text/html": [
       "<div>\n",
       "<style scoped>\n",
       "    .dataframe tbody tr th:only-of-type {\n",
       "        vertical-align: middle;\n",
       "    }\n",
       "\n",
       "    .dataframe tbody tr th {\n",
       "        vertical-align: top;\n",
       "    }\n",
       "\n",
       "    .dataframe thead th {\n",
       "        text-align: right;\n",
       "    }\n",
       "</style>\n",
       "<table border=\"1\" class=\"dataframe\">\n",
       "  <thead>\n",
       "    <tr style=\"text-align: right;\">\n",
       "      <th></th>\n",
       "      <th>x_0</th>\n",
       "      <th>x_1</th>\n",
       "      <th>y</th>\n",
       "    </tr>\n",
       "  </thead>\n",
       "  <tbody>\n",
       "    <tr>\n",
       "      <th>0</th>\n",
       "      <td>0.882026</td>\n",
       "      <td>0.941575</td>\n",
       "      <td>0.0</td>\n",
       "    </tr>\n",
       "    <tr>\n",
       "      <th>1</th>\n",
       "      <td>0.200079</td>\n",
       "      <td>-0.673880</td>\n",
       "      <td>0.0</td>\n",
       "    </tr>\n",
       "    <tr>\n",
       "      <th>2</th>\n",
       "      <td>0.489369</td>\n",
       "      <td>-0.635242</td>\n",
       "      <td>0.0</td>\n",
       "    </tr>\n",
       "    <tr>\n",
       "      <th>3</th>\n",
       "      <td>1.120447</td>\n",
       "      <td>0.484698</td>\n",
       "      <td>0.0</td>\n",
       "    </tr>\n",
       "    <tr>\n",
       "      <th>4</th>\n",
       "      <td>0.933779</td>\n",
       "      <td>-0.586562</td>\n",
       "      <td>0.0</td>\n",
       "    </tr>\n",
       "    <tr>\n",
       "      <th>...</th>\n",
       "      <td>...</td>\n",
       "      <td>...</td>\n",
       "      <td>...</td>\n",
       "    </tr>\n",
       "    <tr>\n",
       "      <th>195</th>\n",
       "      <td>2.568446</td>\n",
       "      <td>1.619254</td>\n",
       "      <td>1.0</td>\n",
       "    </tr>\n",
       "    <tr>\n",
       "      <th>196</th>\n",
       "      <td>2.048862</td>\n",
       "      <td>2.428962</td>\n",
       "      <td>1.0</td>\n",
       "    </tr>\n",
       "    <tr>\n",
       "      <th>197</th>\n",
       "      <td>2.291477</td>\n",
       "      <td>2.570551</td>\n",
       "      <td>1.0</td>\n",
       "    </tr>\n",
       "    <tr>\n",
       "      <th>198</th>\n",
       "      <td>1.800275</td>\n",
       "      <td>2.733289</td>\n",
       "      <td>1.0</td>\n",
       "    </tr>\n",
       "    <tr>\n",
       "      <th>199</th>\n",
       "      <td>2.185028</td>\n",
       "      <td>2.426276</td>\n",
       "      <td>1.0</td>\n",
       "    </tr>\n",
       "  </tbody>\n",
       "</table>\n",
       "<p>200 rows × 3 columns</p>\n",
       "</div>"
      ],
      "text/plain": [
       "          x_0       x_1    y\n",
       "0    0.882026  0.941575  0.0\n",
       "1    0.200079 -0.673880  0.0\n",
       "2    0.489369 -0.635242  0.0\n",
       "3    1.120447  0.484698  0.0\n",
       "4    0.933779 -0.586562  0.0\n",
       "..        ...       ...  ...\n",
       "195  2.568446  1.619254  1.0\n",
       "196  2.048862  2.428962  1.0\n",
       "197  2.291477  2.570551  1.0\n",
       "198  1.800275  2.733289  1.0\n",
       "199  2.185028  2.426276  1.0\n",
       "\n",
       "[200 rows x 3 columns]"
      ]
     },
     "execution_count": 45,
     "metadata": {},
     "output_type": "execute_result"
    }
   ],
   "source": [
    "df"
   ]
  },
  {
   "cell_type": "code",
   "execution_count": 46,
   "metadata": {},
   "outputs": [
    {
     "data": {
      "text/html": [
       "<div>\n",
       "<style scoped>\n",
       "    .dataframe tbody tr th:only-of-type {\n",
       "        vertical-align: middle;\n",
       "    }\n",
       "\n",
       "    .dataframe tbody tr th {\n",
       "        vertical-align: top;\n",
       "    }\n",
       "\n",
       "    .dataframe thead th {\n",
       "        text-align: right;\n",
       "    }\n",
       "</style>\n",
       "<table border=\"1\" class=\"dataframe\">\n",
       "  <thead>\n",
       "    <tr style=\"text-align: right;\">\n",
       "      <th></th>\n",
       "      <th>x_0</th>\n",
       "      <th>x_1</th>\n",
       "      <th>y</th>\n",
       "    </tr>\n",
       "  </thead>\n",
       "  <tbody>\n",
       "    <tr>\n",
       "      <th>95</th>\n",
       "      <td>0.353287</td>\n",
       "      <td>-0.085773</td>\n",
       "      <td>0.0</td>\n",
       "    </tr>\n",
       "    <tr>\n",
       "      <th>139</th>\n",
       "      <td>2.338454</td>\n",
       "      <td>2.829775</td>\n",
       "      <td>1.0</td>\n",
       "    </tr>\n",
       "    <tr>\n",
       "      <th>50</th>\n",
       "      <td>-0.447733</td>\n",
       "      <td>-0.034121</td>\n",
       "      <td>0.0</td>\n",
       "    </tr>\n",
       "    <tr>\n",
       "      <th>168</th>\n",
       "      <td>1.844557</td>\n",
       "      <td>1.866133</td>\n",
       "      <td>1.0</td>\n",
       "    </tr>\n",
       "    <tr>\n",
       "      <th>19</th>\n",
       "      <td>-0.427048</td>\n",
       "      <td>0.461103</td>\n",
       "      <td>0.0</td>\n",
       "    </tr>\n",
       "    <tr>\n",
       "      <th>...</th>\n",
       "      <td>...</td>\n",
       "      <td>...</td>\n",
       "      <td>...</td>\n",
       "    </tr>\n",
       "    <tr>\n",
       "      <th>175</th>\n",
       "      <td>1.804523</td>\n",
       "      <td>2.246918</td>\n",
       "      <td>1.0</td>\n",
       "    </tr>\n",
       "    <tr>\n",
       "      <th>196</th>\n",
       "      <td>2.048862</td>\n",
       "      <td>2.428962</td>\n",
       "      <td>1.0</td>\n",
       "    </tr>\n",
       "    <tr>\n",
       "      <th>114</th>\n",
       "      <td>1.527777</td>\n",
       "      <td>1.807560</td>\n",
       "      <td>1.0</td>\n",
       "    </tr>\n",
       "    <tr>\n",
       "      <th>33</th>\n",
       "      <td>-0.990398</td>\n",
       "      <td>0.015915</td>\n",
       "      <td>0.0</td>\n",
       "    </tr>\n",
       "    <tr>\n",
       "      <th>77</th>\n",
       "      <td>-0.289425</td>\n",
       "      <td>-0.344775</td>\n",
       "      <td>0.0</td>\n",
       "    </tr>\n",
       "  </tbody>\n",
       "</table>\n",
       "<p>200 rows × 3 columns</p>\n",
       "</div>"
      ],
      "text/plain": [
       "          x_0       x_1    y\n",
       "95   0.353287 -0.085773  0.0\n",
       "139  2.338454  2.829775  1.0\n",
       "50  -0.447733 -0.034121  0.0\n",
       "168  1.844557  1.866133  1.0\n",
       "19  -0.427048  0.461103  0.0\n",
       "..        ...       ...  ...\n",
       "175  1.804523  2.246918  1.0\n",
       "196  2.048862  2.428962  1.0\n",
       "114  1.527777  1.807560  1.0\n",
       "33  -0.990398  0.015915  0.0\n",
       "77  -0.289425 -0.344775  0.0\n",
       "\n",
       "[200 rows x 3 columns]"
      ]
     },
     "execution_count": 46,
     "metadata": {},
     "output_type": "execute_result"
    }
   ],
   "source": [
    "df.loc[random_list]"
   ]
  },
  {
   "cell_type": "code",
   "execution_count": 42,
   "metadata": {},
   "outputs": [
    {
     "data": {
      "text/plain": [
       "[159,\n",
       " 26,\n",
       " 19,\n",
       " 113,\n",
       " 55,\n",
       " 70,\n",
       " 15,\n",
       " 191,\n",
       " 117,\n",
       " 78,\n",
       " 56,\n",
       " 3,\n",
       " 11,\n",
       " 172,\n",
       " 126,\n",
       " 141,\n",
       " 182,\n",
       " 48,\n",
       " 130,\n",
       " 49,\n",
       " 116,\n",
       " 136,\n",
       " 90,\n",
       " 60,\n",
       " 31,\n",
       " 175,\n",
       " 97,\n",
       " 30,\n",
       " 161,\n",
       " 176,\n",
       " 129,\n",
       " 167,\n",
       " 146,\n",
       " 59,\n",
       " 64,\n",
       " 165,\n",
       " 83,\n",
       " 46,\n",
       " 41,\n",
       " 5,\n",
       " 181,\n",
       " 199,\n",
       " 200,\n",
       " 18,\n",
       " 74,\n",
       " 14,\n",
       " 120,\n",
       " 135,\n",
       " 128,\n",
       " 42,\n",
       " 1,\n",
       " 69,\n",
       " 75,\n",
       " 84,\n",
       " 53,\n",
       " 38,\n",
       " 168,\n",
       " 160,\n",
       " 108,\n",
       " 107,\n",
       " 12,\n",
       " 147,\n",
       " 103,\n",
       " 192,\n",
       " 35,\n",
       " 61,\n",
       " 148,\n",
       " 17,\n",
       " 71,\n",
       " 138,\n",
       " 80,\n",
       " 2,\n",
       " 104,\n",
       " 66,\n",
       " 63,\n",
       " 100,\n",
       " 40,\n",
       " 99,\n",
       " 188,\n",
       " 7,\n",
       " 158,\n",
       " 195,\n",
       " 155,\n",
       " 44,\n",
       " 21,\n",
       " 50,\n",
       " 157,\n",
       " 101,\n",
       " 124,\n",
       " 143,\n",
       " 79,\n",
       " 4,\n",
       " 140,\n",
       " 94,\n",
       " 93,\n",
       " 186,\n",
       " 197,\n",
       " 137,\n",
       " 16,\n",
       " 166,\n",
       " 198,\n",
       " 149,\n",
       " 154,\n",
       " 115,\n",
       " 189,\n",
       " 52,\n",
       " 111,\n",
       " 163,\n",
       " 77,\n",
       " 24,\n",
       " 37,\n",
       " 153,\n",
       " 95,\n",
       " 57,\n",
       " 170,\n",
       " 9,\n",
       " 132,\n",
       " 194,\n",
       " 156,\n",
       " 127,\n",
       " 76,\n",
       " 85,\n",
       " 180,\n",
       " 118,\n",
       " 164,\n",
       " 187,\n",
       " 134,\n",
       " 184,\n",
       " 185,\n",
       " 152,\n",
       " 178,\n",
       " 25,\n",
       " 68,\n",
       " 131,\n",
       " 81,\n",
       " 28,\n",
       " 65,\n",
       " 62,\n",
       " 109,\n",
       " 98,\n",
       " 86,\n",
       " 145,\n",
       " 171,\n",
       " 88,\n",
       " 45,\n",
       " 114,\n",
       " 144,\n",
       " 96,\n",
       " 177,\n",
       " 174,\n",
       " 82,\n",
       " 58,\n",
       " 51,\n",
       " 179,\n",
       " 105,\n",
       " 91,\n",
       " 27,\n",
       " 33,\n",
       " 67,\n",
       " 106,\n",
       " 6,\n",
       " 151,\n",
       " 112,\n",
       " 142,\n",
       " 73,\n",
       " 22,\n",
       " 193,\n",
       " 119,\n",
       " 183,\n",
       " 10,\n",
       " 54,\n",
       " 32,\n",
       " 173,\n",
       " 34,\n",
       " 13,\n",
       " 87,\n",
       " 23,\n",
       " 122,\n",
       " 36,\n",
       " 133,\n",
       " 196,\n",
       " 29,\n",
       " 139,\n",
       " 89,\n",
       " 39,\n",
       " 43,\n",
       " 102,\n",
       " 47,\n",
       " 8,\n",
       " 121,\n",
       " 190,\n",
       " 125,\n",
       " 110,\n",
       " 20,\n",
       " 123,\n",
       " 72,\n",
       " 92,\n",
       " 162,\n",
       " 150,\n",
       " 169]"
      ]
     },
     "execution_count": 42,
     "metadata": {},
     "output_type": "execute_result"
    }
   ],
   "source": [
    "random_list"
   ]
  },
  {
   "cell_type": "code",
   "execution_count": 49,
   "metadata": {},
   "outputs": [
    {
     "data": {
      "image/png": "[encoded data removed]",
      "text/plain": [
       "<Figure size 600x600 with 1 Axes>"
      ]
     },
     "metadata": {},
     "output_type": "display_data"
    }
   ],
   "source": [
    "import matplotlib.pyplot as plt\n",
    "epoch = [1, 2, 3, 4, 5]\n",
    "loss_epoch_avg = [0.5, 0.4, 0.321, 0.11, 0.011]\n",
    "\n",
    "fig, ax = plt.subplots(1, 1, figsize=(6, 6))\n",
    "ax.plot(epoch, loss_epoch_avg)\n",
    "ax.set_title(\"Loss vs epoch\")\n",
    "ax.set_xlabel(\"Epochs\")\n",
    "ax.set_ylabel(\"Average Loss\")\n",
    "plt.tight_layout()\n",
    "plt.show()"
   ]
  },
  {
   "cell_type": "code",
   "execution_count": null,
   "metadata": {},
   "outputs": [],
   "source": []
  }
 ],
 "metadata": {
  "kernelspec": {
   "display_name": "nn_with_backprop",
   "language": "python",
   "name": "python3"
  },
  "language_info": {
   "codemirror_mode": {
    "name": "ipython",
    "version": 3
   },
   "file_extension": ".py",
   "mimetype": "text/x-python",
   "name": "python",
   "nbconvert_exporter": "python",
   "pygments_lexer": "ipython3",
   "version": "3.12.4"
  }
 },
 "nbformat": 4,
 "nbformat_minor": 2
}
